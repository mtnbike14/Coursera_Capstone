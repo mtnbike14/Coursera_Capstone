{
 "cells": [
  {
   "cell_type": "markdown",
   "metadata": {
    "collapsed": true
   },
   "source": [
    "# Neighborhoods and Breweries in Denver, CO, USA"
   ]
  },
  {
   "cell_type": "markdown",
   "metadata": {},
   "source": [
    "### Introduction/Business Problem\n",
    "Many people consider Denver as a major hub for North American craft brewers.  There are a couple hundred active breweries in the direct area, and the economy seems to support it, so this is a good assumption for the purposes of this project.\n",
    "So, craft beer is a popular item in Denver that has proven it can sell. But has the market reached its saturation point?  Would a new brewery fail just because there are too many in walking distance in a given neighborhood already?  What neighborhoods have the most/fewest close to their center?\n",
    "An aspiring brew master/business owner is the target audience and would be interested in this question.  The data found here could get them started for initial analysis.  As a byproduct (not target audience, but still works), beer enthusiasts wanting to find ‘hub’ neighborhoods to try local beer would be interested in this as well.\n",
    "\n",
    "### Data\n",
    "-\tDenver neighborhoods.\n",
    "o\tSource: https://en.wikipedia.org/wiki/List_of_neighborhoods_in_Denver\n",
    "o\tThese will be our centroids for analysis later, and the keys of what we are looking at.\n",
    "-\tLatitude and longitude of each neighborhood center, as found with the Python geopy module\n",
    "o\tWe need a central point for each neighborhood, to calculate distances from breweries\n",
    "-\tFoursquare location data\n",
    "o\tUsing a search from the neighborhoods with keyword ‘brew’, collect all businesses that meet that criteria, along with their exact locations.\n",
    "o\tThis will show us all the breweries near Denver neighborhoods, and more importantly their coordinates so we can compare to the closest neighborhood(s).\n",
    "\n",
    "### Methodology\n",
    "The full jupyter notebook with code and comments breaks down the method clearly.  Summary as follows – \n",
    "Since this is a ‘Battle of the Neighborhoods’ assignment, an important step is to define neighborhoods with location.  I used the official list from Wikipedia and the geopy module, which I put into a data frame.\n",
    "I made a second data frame by using my Foursquare API to connect to their database, search for breweries using keyword ‘brew’, and then compiling the results.  Since there would be duplicate breweries returned in this method (i.e. a short distance between some smaller neighborhoods), I de-duplicated the results in the data frame.\n",
    "I then used the folium module to show both the neighborhood central points as well as breweries on the same map.  This map alone is a useful visual to see where breweries are clustered together and where they are sparser, so a lot of information could be gained by just looking here.\n",
    "Moving on, I used the cdist function in the distance module in the SciPy library to analyze what we are seeing.  This function lets us tie in the business problem. By using the neighborhood points as the starting set, we can look at brewery points as reference with a cut-off distance and see what breweries are close to each neighborhood center.  Then, by counting those values for each neighborhood, we get a good summary of how many breweries are close to each neighborhood center in a final data frame.\n",
    "Finally, I made a quick histogram of the last data frame.  I wanted to see how the breweries are distributed.  Are they flat across with every neighborhood full?  Is there a skew to the downtown neighborhoods?\n",
    "\n",
    "### Results\n",
    "Distribution is all over the place with some areas having zero in the cutoff distance, then some having a few, and only a handful of neighborhoods downtown having a lot.\n",
    "While downtown holds its own with number of breweries, the most saturation is actually just northeast of downtown in the Five Points and Windsor neighborhoods.  I was surprised to see 11 neighborhoods as having no breweries in the cutoff distance, and not all of them being on the edge of town either.  And there are many neighborhoods with a balanced number that make sense, I just expected to see more of these middle amount neighborhoods actually.\n",
    "\n",
    "### Discussion\n",
    "Based on this report, it looks like there is still opportunity in many areas of an already big market.  Before any significant capital is invested, there should be other analysis such as more neighborhood profiling, real estate available, and any specific neighborhood ordinances.  But this shows a good starting point that the market is not even, and if you make a good product in a good location (less brewing competition, but restaurants nearby?) then there is a solid chance of success here.\n",
    "\n",
    "### Conclusion\n",
    "My conclusion is there are several neighborhoods with communities of people that might enjoy a local brewery.  The Goldsmith neighborhood and Overland might be the best starting spots to look as ‘cold’ areas that are still well accessible by many other neighborhoods (and suburbs) of Denver.\n"
   ]
  }
 ],
 "metadata": {
  "kernelspec": {
   "display_name": "Python 3.5",
   "language": "python",
   "name": "python3"
  },
  "language_info": {
   "codemirror_mode": {
    "name": "ipython",
    "version": 3
   },
   "file_extension": ".py",
   "mimetype": "text/x-python",
   "name": "python",
   "nbconvert_exporter": "python",
   "pygments_lexer": "ipython3",
   "version": "3.5.5"
  }
 },
 "nbformat": 4,
 "nbformat_minor": 1
}
